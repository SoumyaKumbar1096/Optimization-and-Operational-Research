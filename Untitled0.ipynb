{
  "nbformat": 4,
  "nbformat_minor": 0,
  "metadata": {
    "colab": {
      "name": "Untitled0.ipynb",
      "provenance": [],
      "collapsed_sections": [],
      "toc_visible": true,
      "authorship_tag": "ABX9TyNhIgYKVK8UUghR8tkCWZns",
      "include_colab_link": true
    },
    "kernelspec": {
      "name": "python3",
      "display_name": "Python 3"
    },
    "language_info": {
      "name": "python"
    }
  },
  "cells": [
    {
      "cell_type": "markdown",
      "metadata": {
        "id": "view-in-github",
        "colab_type": "text"
      },
      "source": [
        "<a href=\"https://colab.research.google.com/github/SoumyaKumbar1096/Optimization-and-Operational-Research/blob/main/Untitled0.ipynb\" target=\"_parent\"><img src=\"https://colab.research.google.com/assets/colab-badge.svg\" alt=\"Open In Colab\"/></a>"
      ]
    },
    {
      "cell_type": "code",
      "execution_count": null,
      "metadata": {
        "colab": {
          "base_uri": "https://localhost:8080/"
        },
        "id": "bgXjDUQhNioz",
        "outputId": "2805af1b-c4bb-4f3f-9160-77d3a60719ff"
      },
      "outputs": [
        {
          "output_type": "stream",
          "name": "stdout",
          "text": [
            "Status: optimal\n",
            "optimal value 1.0\n",
            "optimal var 1.0 1.570086213240983e-22\n"
          ]
        }
      ],
      "source": [
        "import cvxpy as cp\n",
        "#Exercise 1 using CVXPY\n",
        "\n",
        "#Create scalar Optimization Variables\n",
        "x=cp.Variable()\n",
        "y=cp.Variable()\n",
        "\n",
        "#Create constraints\n",
        "constraints = [x+y == 1,\n",
        "               x-y >= 1]\n",
        "\n",
        "#Form Objective\n",
        "obj = cp.Minimize((x-y)**2)\n",
        "\n",
        "#Form and solve problem.\n",
        "prob = cp.Problem(obj, constraints)\n",
        "prob.solve()\n",
        "print(\"Status:\", prob.status)\n",
        "print(\"optimal value\", prob.value)\n",
        "print(\"optimal var\", x.value, y.value)"
      ]
    },
    {
      "cell_type": "markdown",
      "source": [
        "# Unconstrained optimization"
      ],
      "metadata": {
        "id": "U4kBLR0pO9Fk"
      }
    },
    {
      "cell_type": "code",
      "source": [
        "import cvxpy as cp\n",
        "#Exercise 2.1 \n",
        "\n",
        "#Scalar Variables\n",
        "x = cp.Variable(2)\n",
        "y = cp.Variable(2)\n",
        "\n",
        "#Constraints\n",
        "constraints = [x[0] >= 0,\n",
        "               x[1] >= 0,\n",
        "               y[0] >= 0,\n",
        "               y[0] >= 0,]\n",
        "\n",
        "#Form Objective\n",
        "obj = cp.Minimize((x[1]-4)**2 + 7*((y[1]-4)**2) + 4*y[1])\n",
        "\n",
        "\n",
        "#Form and solve problem\n",
        "prob = cp.Problem(obj, constraints)\n",
        "prob.solve()\n",
        "print(\"Status:\", prob.status)\n",
        "print(\"Optimal value:\", prob.value)\n",
        "print(\"optimal var:\", x.value, y.value)\n"
      ],
      "metadata": {
        "colab": {
          "base_uri": "https://localhost:8080/"
        },
        "id": "jF2DcG_CPNf7",
        "outputId": "4c50cac7-2181-4053-ba1e-3cc8ce1e84ed"
      },
      "execution_count": 54,
      "outputs": [
        {
          "output_type": "stream",
          "name": "stdout",
          "text": [
            "Status: optimal\n",
            "Optimal value: 15.428571428571429\n",
            "optimal var: [-0.  4.] [-0.          3.71428571]\n"
          ]
        }
      ]
    },
    {
      "cell_type": "code",
      "source": [
        "import cvxpy as cp\n",
        "#Exercise 2.2\n",
        "\n",
        "#Scalar Variables\n",
        "x = cp.Variable()\n",
        "y = cp.Variable()\n",
        "z = cp.Variable()\n",
        "\n",
        "#COntraints\n",
        "contraints = [x >= 0,\n",
        "              y >= 0]\n",
        "#Form objective\n",
        "#obj=cp.Minimize((x[1]**3)+((y[1]-z[1])**2)+(z[1]**3)+2)\n",
        "obj=cp.Minimize((x**3)+((y-z)**2)+(z**3)+2)\n",
        "\n",
        "prob=cp.Problem(obj, constraints)\n",
        "prob.solve()\n",
        "print(\"Status:\", prob.status)\n",
        "print(\"Optimal value:\", prob.value)\n",
        "print(\"optimal var:\", x.value, y.value, z.value) "
      ],
      "metadata": {
        "id": "rw-I2PuJPOQv",
        "colab": {
          "base_uri": "https://localhost:8080/"
        },
        "outputId": "67d05d60-0701-4d3d-b5c2-772eec7a0bd5"
      },
      "execution_count": 58,
      "outputs": [
        {
          "output_type": "stream",
          "name": "stdout",
          "text": [
            "Status: optimal\n",
            "Optimal value: 1.9999999997811524\n",
            "optimal var: 0.00027829654284740953 0.00027810832727256213 0.00027810830923442713\n"
          ]
        }
      ]
    },
    {
      "cell_type": "markdown",
      "source": [
        "\n",
        "\n",
        "---\n",
        "\n"
      ],
      "metadata": {
        "id": "3vETZ8ADKUi3"
      }
    },
    {
      "cell_type": "code",
      "source": [
        "import cvxpy as cp\n",
        "#Exercise 2.3 \n",
        "\n",
        "#Scalar Variables\n",
        "x = cp.Variable()\n",
        "y = cp.Variable()\n",
        "\n",
        "#Contraints\n",
        "constraints = [-x-y <= -4,\n",
        "               x >= 0,\n",
        "               y >= 0]\n",
        "\n",
        "#Objective Functions\n",
        "obj=cp.Minimize((x-2)**2 + (3*y))\n",
        "\n",
        "#Problem solution\n",
        "prob = cp.Problem(obj, constraints)\n",
        "prob.solve()\n",
        "print(\"Status:\", prob.status)\n",
        "print(\"optimal value\", prob.value)\n",
        "print(\"optimal var\", x.value, y.value)"
      ],
      "metadata": {
        "colab": {
          "base_uri": "https://localhost:8080/"
        },
        "id": "KpFwgpZkKZTI",
        "outputId": "11cc96af-3a60-4637-bd3e-c0899c34b807"
      },
      "execution_count": null,
      "outputs": [
        {
          "output_type": "stream",
          "name": "stdout",
          "text": [
            "Status: optimal\n",
            "optimal value 3.75\n",
            "optimal var 3.5 0.5\n"
          ]
        }
      ]
    },
    {
      "cell_type": "code",
      "source": [
        "import cvxpy as cp\n",
        "from cvxpy import Parameter\n",
        "\n",
        "#Exercise 2.3 using log-barrier function\n",
        "\n",
        "#Scalar Variables\n",
        "x = cp.Variable()\n",
        "y = cp.Variable()\n",
        "p = cp.Parameter(nonneg=True, value=3)\n",
        "\n",
        "c =  -x-y+4\n",
        "#Contraints\n",
        "constraints = [ c <= 0]\n",
        "\n",
        "#Function\n",
        "f = (x-2)**2 + (3*y)\n",
        "#Objective Functions\n",
        "#obj=cp.Minimize(f - (p*cp.log(-c)))\n",
        "obj=cp.Minimize((x-2)**2 + (3*y) - (p*cp.log(-c)))\n",
        "\n",
        "#Problem solution\n",
        "prob = cp.Problem(obj)\n",
        "prob.solve()\n",
        "print(\"Status:\", prob.status)\n",
        "print(\"optimal value\", prob.value)\n",
        "print(\"optimal var\", x.value, y.value)\n",
        "print(\"Observation: \")\n",
        "print(\"Starting from 0, the function reaches optimal value at parameter=3, optimal value=6.74999997347615. Then starts decreasing gradually\")\n"
      ],
      "metadata": {
        "id": "JSKmatzJ9swN",
        "colab": {
          "base_uri": "https://localhost:8080/"
        },
        "outputId": "7d5dae23-a05f-44c4-8ff4-475570f6f964"
      },
      "execution_count": 47,
      "outputs": [
        {
          "output_type": "stream",
          "name": "stdout",
          "text": [
            "Status: optimal\n",
            "optimal value 6.74999997347615\n",
            "optimal var 3.500003348592989 1.499996645794217\n",
            "Observation: \n",
            "Starting from 0, the function reaches optimal value at parameter=3, optimal value=6.74999997347615. Then starts decreasing gradually\n"
          ]
        }
      ]
    },
    {
      "cell_type": "code",
      "source": [
        "import cvxpy as cp\n",
        "#Exercise 3.1 Water resource\n",
        "\n",
        "#Scalar Variables\n",
        "x = cp.Variable() #Litres of water from reservoir per day\n",
        "y = cp.Variable() #Litres of water from stream per day\n",
        "\n",
        "#Constraints\n",
        "constraints = [y <= 100000,                    #At most 100,000 litres of water can be taken from the stream\n",
        "              (50*x/500000) + (250*y/500000) <= 100000,        #Pollutants in the water served to the city can not exceed 100ppm\n",
        "               x + y == 500000                #City needs 500,000 litres of water per day\n",
        "               ]\n",
        "\n",
        "#Objective function\n",
        "obj = cp.Minimize(0.1*x + 0.05*y)           #Cost per 1000 Litres of water.\n",
        "\n",
        "#Problem solution\n",
        "prob = cp.Problem(obj, constraints)\n",
        "prob.solve()\n",
        "print(\"Status:\", prob.status)\n",
        "print(\"optimal value\", prob.value)\n",
        "print(\"optimal var\", x.value, y.value)"
      ],
      "metadata": {
        "colab": {
          "base_uri": "https://localhost:8080/"
        },
        "id": "zE9amlZuP86c",
        "outputId": "61026c8e-d540-4a4d-d80f-6db49bc6c9f9"
      },
      "execution_count": null,
      "outputs": [
        {
          "output_type": "stream",
          "name": "stdout",
          "text": [
            "Status: optimal\n",
            "optimal value 45000.00000010295\n",
            "optimal var 400000.0000020589 99999.99999794115\n"
          ]
        }
      ]
    },
    {
      "cell_type": "code",
      "source": [
        "import cvxpy as cp\n",
        "#Exercise 3.2 to design a good smelling new perfume\n",
        "\n",
        "#Scalar Variables\n",
        "a = cp.Variable()     #Percentage of Blend 1\n",
        "b = cp.Variable()     #Percentage of Blend 2\n",
        "c = cp.Variable()     #Percentage of Blend 3\n",
        "d = cp.Variable()     #Percentage of Blend 4\n",
        "\n",
        "#Contraints\n",
        "constraint = [a <= 0.25, a >= 0.10, \n",
        "               b <= 0.20, b >= 0.05, \n",
        "               c >= 0.30,\n",
        "               ((0.35*a) + (0.60*b) + (0.35*c) + (0.40*d)) <= 0.50,\n",
        "               ((0.15*a) + (0.05*b) + (0.20*c) + (0.10*d)) <= 0.13,\n",
        "               ((0.15*a) + (0.05*b) + (0.20*c) + (0.10*d)) >= 0.08,\n",
        "               ((0.30*a) + (0.20*b) + (0.40*c) + (0.20*d)) <= 0.35,\n",
        "               ((0.20*a) + (0.15*b) + (0.05*c) + (0.30*d)) >= 0.19,\n",
        "               a + b + c + d == 1.00\n",
        "                ]\n",
        "\n",
        "#Objective Function\n",
        "obj = cp.Minimize((55*a) + (65*b) + (35*c) + (85*d))\n",
        "\n",
        "#Problem solution\n",
        "prob = cp.Problem(obj, constraint )\n",
        "prob.solve()\n",
        "print(\"Status:\", prob.status)\n",
        "print(\"optimal value\", prob.value)\n",
        "print(\"optimal values of each  blend: \")\n",
        "print(\"Blend1:\", a.value ,\", Blend2:\", b.value ,\", Blend3:\", c.value, \", Blend4:\", d.value)"
      ],
      "metadata": {
        "colab": {
          "base_uri": "https://localhost:8080/"
        },
        "id": "saEMQrc-O6mB",
        "outputId": "e9388327-3f27-47e8-ec12-328e64d02a9a"
      },
      "execution_count": null,
      "outputs": [
        {
          "output_type": "stream",
          "name": "stdout",
          "text": [
            "Status: optimal\n",
            "optimal value 62.999999998362306\n",
            "optimal values of each  blend: \n",
            "Blend1: 0.14000000000931753 , Blend2: 0.14000000001437304 , Blend3: 0.300000000021845 , Blend4: 0.4199999999547179\n"
          ]
        }
      ]
    },
    {
      "cell_type": "code",
      "source": [
        "from numpy import log\n",
        "import cvxpy as cp\n",
        "#Exercise 3.3 to Maximize Roadway expenses\n",
        "\n",
        "#Scalar Variables\n",
        "x = cp.Variable()  #Amount spent on Rural project in Millions\n",
        "y = cp.Variable()  #Amount spent on Urban projects in Millions\n",
        "\n",
        "#Contraints\n",
        "constraint = [x + y <= 200]\n",
        "\n",
        "#Objective Function\n",
        "obj = cp.Maximize( (7000*cp.log(1+x)) + (5000*cp.log(1+y)) - x - y )\n",
        "\n",
        "#Problem solution\n",
        "prob = cp.Problem(obj, constraint)\n",
        "prob.solve()\n",
        "print(\"Status:\", prob.status)\n",
        "print(\"The Profit can be maximized to:\", prob.value)\n",
        "print(\"optimal values of amout spent on projects is:-\")\n",
        "print(  \"on Rural Projects\", x.value, \", on Urban Projects\", y.value)"
      ],
      "metadata": {
        "colab": {
          "base_uri": "https://localhost:8080/"
        },
        "id": "S15tcn6tPn6H",
        "outputId": "87415021-2664-4b95-da37-1feaa8566b81"
      },
      "execution_count": null,
      "outputs": [
        {
          "output_type": "stream",
          "name": "stdout",
          "text": [
            "Status: optimal\n",
            "The Profit can be maximized to: 55348.89343382328\n",
            "optimal values of amout spent on projects is:-\n",
            "on Rural Projects 116.83223775984295 , on Urban Projects 83.16776066600373\n"
          ]
        }
      ]
    },
    {
      "cell_type": "code",
      "source": [
        ""
      ],
      "metadata": {
        "id": "qlROS_hVw-k0"
      },
      "execution_count": null,
      "outputs": []
    }
  ]
}